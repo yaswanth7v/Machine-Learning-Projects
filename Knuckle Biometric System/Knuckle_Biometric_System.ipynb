{
  "cells": [
    {
      "cell_type": "code",
      "execution_count": 1,
      "metadata": {
        "id": "p6ucj3dmBAet"
      },
      "outputs": [],
      "source": [
        "import numpy as np\n",
        "import matplotlib.pyplot as plt\n",
        "from tensorflow.keras.preprocessing.image import ImageDataGenerator\n",
        "import cv2"
      ]
    },
    {
      "cell_type": "code",
      "execution_count": null,
      "metadata": {
        "id": "kbGwZu0Dp0Wk"
      },
      "outputs": [],
      "source": [
        "pip install py7zr"
      ]
    },
    {
      "cell_type": "code",
      "execution_count": 3,
      "metadata": {
        "colab": {
          "base_uri": "https://localhost:8080/"
        },
        "id": "4hKGTW-Th40d",
        "outputId": "880b6616-4f38-4cc4-851e-50ff03c613ff"
      },
      "outputs": [
        {
          "output_type": "stream",
          "name": "stdout",
          "text": [
            "Extracted files: ['079_3.bmp', '082_4.bmp', '032_4.bmp', '088_4.bmp', '041_5.bmp', '027_4.bmp', '149_3.bmp', '025_2.bmp', '048_4.bmp', '141_3.bmp', '156_1.bmp', '067_4.bmp', '096_5.bmp', '054_3.bmp', '143_1.bmp', '051_5.bmp', '109_3.bmp', '135_1.bmp', '081_2.bmp', '143_2.bmp', '088_1.bmp', '030_3.bmp', '110_5.bmp', '024_2.bmp', '135_5.bmp', '033_5.bmp', '025_4.bmp', '092_3.bmp', '022_2.bmp', '042_1.bmp', '096_1.bmp', '100_2.bmp', '037_4.bmp', '062_3.bmp', '106_3.bmp', '053_3.bmp', '015_5.bmp', '114_3.bmp', '090_3.bmp', '147_5.bmp', '110_1.bmp', '061_5.bmp', '089_3.bmp', '146_2.bmp', '107_1.bmp', '079_4.bmp', '129_3.bmp', '146_3.bmp', '075_2.bmp', '044_1.bmp', '075_5.bmp', '029_5.bmp', '122_2.bmp', '117_2.bmp', '157_1.bmp', '115_2.bmp', '128_1.bmp', '084_4.bmp', '085_4.bmp', '139_5.bmp', '086_4.bmp', '061_3.bmp', '104_4.bmp', '084_3.bmp', '011_4.bmp', '040_1.bmp', '087_4.bmp', '028_1.bmp', '013_1.bmp', '155_3.bmp', '131_1.bmp', '104_1.bmp', '001_5.bmp', '044_2.bmp', '055_3.bmp', '144_5.bmp', '083_4.bmp', '001_1.bmp', '053_4.bmp', '031_1.bmp', '015_4.bmp', '095_1.bmp', '138_5.bmp', '037_1.bmp', '140_1.bmp', '086_2.bmp', '136_1.bmp', '036_4.bmp', '053_2.bmp', '105_2.bmp', '016_3.bmp', '068_5.bmp', '113_3.bmp', '011_3.bmp', '112_4.bmp', '002_2.bmp', '038_2.bmp', '143_5.bmp', '055_2.bmp', '072_1.bmp', '032_1.bmp', '009_1.bmp', '155_2.bmp', '075_4.bmp', '038_4.bmp', '144_2.bmp', '119_5.bmp', '033_1.bmp', '071_4.bmp', '004_5.bmp', '095_2.bmp', '127_5.bmp', '026_2.bmp', '157_3.bmp', '116_3.bmp', '053_1.bmp', '015_3.bmp', '120_3.bmp', '101_2.bmp', '007_5.bmp', '070_3.bmp', '025_5.bmp', '150_2.bmp', '152_5.bmp', '008_5.bmp', '049_5.bmp', '120_4.bmp', '030_1.bmp', '157_4.bmp', '030_2.bmp', '050_5.bmp', '117_1.bmp', '119_2.bmp', '091_5.bmp', '032_5.bmp', '060_1.bmp', '154_3.bmp', '007_4.bmp', '086_3.bmp', '018_4.bmp', '088_2.bmp', '085_1.bmp', '008_3.bmp', '013_5.bmp', '092_4.bmp', '115_3.bmp', '112_1.bmp', '026_3.bmp', '077_5.bmp', '021_5.bmp', '141_1.bmp', '028_4.bmp', '047_4.bmp', '065_5.bmp', '024_1.bmp', '102_1.bmp', '063_1.bmp', '082_1.bmp', '125_5.bmp', '126_5.bmp', '064_5.bmp', '063_3.bmp', '087_5.bmp', '133_4.bmp', '024_4.bmp', '158_1.bmp', '025_1.bmp', '028_2.bmp', '120_2.bmp', '051_4.bmp', '131_4.bmp', '152_1.bmp', '005_2.bmp', '014_2.bmp', '002_1.bmp', '043_3.bmp', '115_4.bmp', '012_4.bmp', '113_2.bmp', '119_4.bmp', '156_4.bmp', '150_1.bmp', '121_3.bmp', '066_1.bmp', '080_3.bmp', '020_3.bmp', '091_1.bmp', '099_5.bmp', '092_1.bmp', '117_4.bmp', '147_1.bmp', '021_1.bmp', '098_4.bmp', '064_2.bmp', '106_2.bmp', '134_2.bmp', '149_5.bmp', '056_4.bmp', '136_2.bmp', '064_3.bmp', '019_3.bmp', '048_5.bmp', '102_4.bmp', '021_4.bmp', '113_5.bmp', '003_2.bmp', '046_1.bmp', '151_1.bmp', '057_3.bmp', '082_2.bmp', '059_4.bmp', '100_4.bmp', '016_4.bmp', '143_3.bmp', '050_4.bmp', '038_5.bmp', '063_5.bmp', '015_2.bmp', '024_3.bmp', '010_2.bmp', '096_3.bmp', '091_4.bmp', '114_4.bmp', '109_2.bmp', '081_4.bmp', '112_3.bmp', '064_4.bmp', '011_5.bmp', '020_4.bmp', '142_5.bmp', '087_1.bmp', '072_3.bmp', '003_4.bmp', '124_1.bmp', '085_5.bmp', '040_2.bmp', '133_2.bmp', '017_5.bmp', '012_5.bmp', '016_1.bmp', '078_1.bmp', '115_1.bmp', '077_2.bmp', '109_5.bmp', '104_2.bmp', '022_3.bmp', '124_4.bmp', '060_3.bmp', '034_3.bmp', '012_2.bmp', '133_3.bmp', '156_5.bmp', '114_2.bmp', '123_4.bmp', '096_2.bmp', '101_1.bmp', '125_1.bmp', '112_5.bmp', '054_2.bmp', '067_3.bmp', '156_3.bmp', '022_1.bmp', '092_5.bmp', '054_4.bmp', '150_5.bmp', '055_4.bmp', '082_3.bmp', '028_5.bmp', '110_2.bmp', '121_1.bmp', '124_5.bmp', '010_4.bmp', '111_3.bmp', '108_3.bmp', '075_3.bmp', '021_3.bmp', '098_3.bmp', '153_1.bmp', '102_2.bmp', '151_4.bmp', '020_2.bmp', '119_3.bmp', '132_3.bmp', '142_4.bmp', '069_3.bmp', '101_5.bmp', '103_2.bmp', '138_3.bmp', '152_4.bmp', '127_4.bmp', '045_3.bmp', '061_2.bmp', '111_5.bmp', '114_1.bmp', '040_3.bmp', '058_3.bmp', '007_1.bmp', '026_5.bmp', '082_5.bmp', '089_2.bmp', '074_5.bmp', '139_2.bmp', '034_2.bmp', '154_4.bmp', '070_2.bmp', '091_2.bmp', '034_4.bmp', '118_5.bmp', '059_5.bmp', '006_2.bmp', '017_2.bmp', '130_1.bmp', '126_3.bmp', '144_3.bmp', '012_1.bmp', '061_4.bmp', '021_2.bmp', '097_1.bmp', '056_1.bmp', '014_3.bmp', '134_4.bmp', '141_2.bmp', '011_2.bmp', '141_5.bmp', '003_1.bmp', '008_1.bmp', '041_2.bmp', '033_2.bmp', '094_4.bmp', '057_5.bmp', '022_4.bmp', '106_1.bmp', '020_1.bmp', '033_3.bmp', '042_5.bmp', '044_4.bmp', '081_5.bmp', '060_4.bmp', '144_4.bmp', '041_1.bmp', '155_5.bmp', '085_2.bmp', '058_1.bmp', '087_3.bmp', '065_1.bmp', '093_4.bmp', '016_5.bmp', '010_1.bmp', '138_2.bmp', '023_5.bmp', '017_1.bmp', '105_3.bmp', '065_4.bmp', '121_2.bmp', '017_4.bmp', '042_2.bmp', '068_4.bmp', '120_5.bmp', '104_3.bmp', '058_4.bmp', '157_5.bmp', '083_2.bmp', '089_1.bmp', '065_2.bmp', '072_2.bmp', '126_4.bmp', '094_3.bmp', '102_5.bmp', '123_1.bmp', '122_5.bmp', '116_4.bmp', '121_4.bmp', '097_3.bmp', '005_4.bmp', '124_2.bmp', '122_4.bmp', '058_2.bmp', '036_3.bmp', '013_4.bmp', '043_4.bmp', '031_5.bmp', '016_2.bmp', '038_3.bmp', '111_1.bmp', '062_5.bmp', '048_1.bmp', '039_1.bmp', '032_2.bmp', '096_4.bmp', '122_3.bmp', '079_5.bmp', '140_5.bmp', '001_4.bmp', '039_5.bmp', '018_5.bmp', '076_1.bmp', '027_2.bmp', '105_1.bmp', '116_1.bmp', '158_4.bmp', '059_3.bmp', '073_1.bmp', '003_5.bmp', '093_1.bmp', '072_5.bmp', '073_4.bmp', '047_5.bmp', '101_4.bmp', '076_4.bmp', '050_2.bmp', '081_1.bmp', '035_5.bmp', '145_4.bmp', '108_4.bmp', '125_2.bmp', '097_2.bmp', '137_5.bmp', '042_4.bmp', '015_1.bmp', '080_2.bmp', '113_1.bmp', '023_3.bmp', '157_2.bmp', '049_1.bmp', '077_3.bmp', '104_5.bmp', '094_2.bmp', '078_2.bmp', '002_3.bmp', '133_1.bmp', '073_5.bmp', '120_1.bmp', '052_3.bmp', '123_3.bmp', '066_5.bmp', '036_2.bmp', '153_3.bmp', '095_3.bmp', '064_1.bmp', '063_2.bmp', '079_1.bmp', '136_4.bmp', '103_4.bmp', '099_4.bmp', '113_4.bmp', '093_3.bmp', '005_1.bmp', '132_1.bmp', '148_1.bmp', '095_4.bmp', '127_1.bmp', '006_3.bmp', '154_1.bmp', '147_3.bmp', '116_5.bmp', '006_4.bmp', '052_4.bmp', '031_2.bmp', '071_1.bmp', '024_5.bmp', '039_3.bmp', '013_2.bmp', '118_3.bmp', '033_4.bmp', '125_3.bmp', '070_4.bmp', '050_1.bmp', '076_5.bmp', '018_2.bmp', '040_4.bmp', '130_3.bmp', '060_5.bmp', '006_1.bmp', '133_5.bmp', '004_2.bmp', '152_2.bmp', '083_3.bmp', '066_4.bmp', '131_3.bmp', '031_4.bmp', '126_1.bmp', '084_1.bmp', '131_2.bmp', '134_5.bmp', '138_1.bmp', '070_1.bmp', '103_3.bmp', '103_1.bmp', '153_5.bmp', '047_2.bmp', '056_3.bmp', '078_4.bmp', '118_1.bmp', '112_2.bmp', '107_2.bmp', '030_5.bmp', '008_4.bmp', '130_2.bmp', '037_2.bmp', '140_4.bmp', '002_5.bmp', '145_2.bmp', '123_2.bmp', '027_5.bmp', '148_3.bmp', '074_2.bmp', '137_4.bmp', '092_2.bmp', '080_5.bmp', '047_3.bmp', '049_2.bmp', '035_3.bmp', '142_2.bmp', '029_4.bmp', '098_5.bmp', '119_1.bmp', '094_5.bmp', '035_4.bmp', '102_3.bmp', '069_1.bmp', '088_5.bmp', '008_2.bmp', '145_3.bmp', '135_3.bmp', '005_3.bmp', '004_3.bmp', '042_3.bmp', '089_5.bmp', '029_1.bmp', '114_5.bmp', '140_3.bmp', '072_4.bmp', '134_1.bmp', '107_5.bmp', '007_2.bmp', '037_3.bmp', '074_1.bmp', '034_5.bmp', '048_2.bmp', '034_1.bmp', '132_2.bmp', '046_3.bmp', '067_5.bmp', '071_2.bmp', '057_2.bmp', '019_2.bmp', '019_4.bmp', '107_3.bmp', '143_4.bmp', '059_1.bmp', '023_2.bmp', '054_1.bmp', '148_2.bmp', '089_4.bmp', '090_2.bmp', '090_1.bmp', '014_5.bmp', '069_4.bmp', '051_3.bmp', '058_5.bmp', '035_2.bmp', '149_1.bmp', '062_2.bmp', '032_3.bmp', '020_5.bmp', '128_2.bmp', '126_2.bmp', '051_2.bmp', '103_5.bmp', '025_3.bmp', '054_5.bmp', '077_1.bmp', '105_4.bmp', '023_4.bmp', '005_5.bmp', '138_4.bmp', '073_3.bmp', '129_1.bmp', '077_4.bmp', '147_4.bmp', '106_5.bmp', '150_3.bmp', '078_3.bmp', '125_4.bmp', '105_5.bmp', '118_4.bmp', '090_4.bmp', '052_2.bmp', '004_1.bmp', '091_3.bmp', '017_3.bmp', '134_3.bmp', '129_5.bmp', '137_1.bmp', '158_2.bmp', '013_3.bmp', '057_4.bmp', '154_5.bmp', '155_1.bmp', '003_3.bmp', '101_3.bmp', '055_1.bmp', '151_3.bmp', '111_4.bmp', '094_1.bmp', '067_2.bmp', '055_5.bmp', '026_1.bmp', '039_2.bmp', '052_1.bmp', '117_5.bmp', '108_5.bmp', '122_1.bmp', '009_3.bmp', '151_2.bmp', '029_2.bmp', '100_5.bmp', '128_4.bmp', '068_3.bmp', '060_2.bmp', '150_4.bmp', '079_2.bmp', '009_2.bmp', '040_5.bmp', '135_4.bmp', '130_4.bmp', '145_1.bmp', '050_3.bmp', '095_5.bmp', '056_2.bmp', '009_4.bmp', '018_3.bmp', '074_4.bmp', '117_3.bmp', '068_2.bmp', '037_5.bmp', '081_3.bmp', '132_4.bmp', '107_4.bmp', '141_4.bmp', '137_3.bmp', '076_3.bmp', '156_2.bmp', '129_2.bmp', '109_4.bmp', '063_4.bmp', '149_4.bmp', '014_1.bmp', '044_3.bmp', '148_5.bmp', '093_5.bmp', '067_1.bmp', '088_3.bmp', '158_3.bmp', '049_3.bmp', '048_3.bmp', '066_3.bmp', '039_4.bmp', '153_4.bmp', '006_5.bmp', '099_3.bmp', '130_5.bmp', '052_5.bmp', '080_1.bmp', '083_1.bmp', '139_1.bmp', '027_3.bmp', '062_1.bmp', '010_5.bmp', '041_4.bmp', '046_5.bmp', '065_3.bmp', '151_5.bmp', '068_1.bmp', '029_3.bmp', '118_2.bmp', '036_5.bmp', '047_1.bmp', '154_2.bmp', '147_2.bmp', '097_4.bmp', '069_5.bmp', '111_2.bmp', '098_1.bmp', '045_5.bmp', '099_1.bmp', '146_4.bmp', '148_4.bmp', '028_3.bmp', '071_5.bmp', '044_5.bmp', '001_3.bmp', '011_1.bmp', '155_4.bmp', '019_1.bmp', '078_5.bmp', '086_5.bmp', '057_1.bmp', '100_3.bmp', '046_2.bmp', '152_3.bmp', '146_1.bmp', '158_5.bmp', '018_1.bmp', '145_5.bmp', '136_5.bmp', '131_5.bmp', '085_3.bmp', '146_5.bmp', '083_5.bmp', '076_2.bmp', '100_1.bmp', '035_1.bmp', '142_3.bmp', '053_5.bmp', '046_4.bmp', '030_4.bmp', '043_5.bmp', '153_2.bmp', '110_4.bmp', '098_2.bmp', '022_5.bmp', '142_1.bmp', '026_4.bmp', '041_3.bmp', '069_2.bmp', '086_1.bmp', '071_3.bmp', '084_5.bmp', '139_4.bmp', '014_4.bmp', '002_4.bmp', '121_5.bmp', '137_2.bmp', '001_2.bmp', '056_5.bmp', '140_2.bmp', '084_2.bmp', '128_3.bmp', '010_3.bmp', '004_4.bmp', '059_2.bmp', '106_4.bmp', '093_2.bmp', '124_3.bmp', '074_3.bmp', '073_2.bmp', '027_1.bmp', '019_5.bmp', '123_5.bmp', '009_5.bmp', '045_1.bmp', '139_3.bmp', '132_5.bmp', '108_1.bmp', '051_1.bmp', '116_2.bmp', '128_5.bmp', '144_1.bmp', '108_2.bmp', '045_2.bmp', '099_2.bmp', '075_1.bmp', '061_1.bmp', '127_2.bmp', '070_5.bmp', '090_5.bmp', '062_4.bmp', '087_2.bmp', '049_4.bmp', '023_1.bmp', '043_1.bmp', '043_2.bmp', '129_4.bmp', '012_3.bmp', '109_1.bmp', '110_3.bmp', '038_1.bmp', '149_2.bmp', '135_2.bmp', '007_3.bmp', '045_4.bmp', '127_3.bmp', '115_5.bmp', '036_1.bmp', '136_3.bmp', '097_5.bmp', '080_4.bmp', '066_2.bmp', '031_3.bmp']\n"
          ]
        }
      ],
      "source": [
        "from py7zr import SevenZipFile\n",
        "import os\n",
        "\n",
        "# Define the path to the .7z archive file\n",
        "archive_file_path = 'Knuckle_IITD.7z'\n",
        "\n",
        "# Define the directory\n",
        "extract_dir = 'extracted_folder'\n",
        "\n",
        "# Create a directory to extract the contents if it doesn't exist\n",
        "if not os.path.exists(extract_dir):\n",
        "    os.makedirs(extract_dir)\n",
        "\n",
        "# Extract the contents of the .7z archive\n",
        "with SevenZipFile(archive_file_path, mode='r') as archive:\n",
        "    archive.extractall(path=extract_dir)\n",
        "\n",
        "# List the contents of the extracted folder\n",
        "extracted_files = os.listdir(extract_dir)\n",
        "print(\"Extracted files:\", extracted_files)\n",
        "\n"
      ]
    },
    {
      "cell_type": "markdown",
      "metadata": {
        "id": "UVFuO6vopjaR"
      },
      "source": [
        "Feature extraction"
      ]
    },
    {
      "cell_type": "code",
      "execution_count": 4,
      "metadata": {
        "id": "JZE8h3g4RtIy"
      },
      "outputs": [],
      "source": [
        "import os\n",
        "from tensorflow.keras.applications.vgg16 import VGG16, preprocess_input\n",
        "from tensorflow.keras.preprocessing.image import load_img, img_to_array\n",
        "from tensorflow.keras.models import Model"
      ]
    },
    {
      "cell_type": "code",
      "execution_count": 5,
      "metadata": {
        "id": "mkmx2mxSSwVA",
        "colab": {
          "base_uri": "https://localhost:8080/"
        },
        "outputId": "19c518a4-874f-469c-e963-09097f9cd0a1"
      },
      "outputs": [
        {
          "output_type": "stream",
          "name": "stdout",
          "text": [
            "Downloading data from https://storage.googleapis.com/tensorflow/keras-applications/vgg16/vgg16_weights_tf_dim_ordering_tf_kernels.h5\n",
            "553467096/553467096 [==============================] - 4s 0us/step\n",
            "Model: \"model\"\n",
            "_________________________________________________________________\n",
            " Layer (type)                Output Shape              Param #   \n",
            "=================================================================\n",
            " input_1 (InputLayer)        [(None, 224, 224, 3)]     0         \n",
            "                                                                 \n",
            " block1_conv1 (Conv2D)       (None, 224, 224, 64)      1792      \n",
            "                                                                 \n",
            " block1_conv2 (Conv2D)       (None, 224, 224, 64)      36928     \n",
            "                                                                 \n",
            " block1_pool (MaxPooling2D)  (None, 112, 112, 64)      0         \n",
            "                                                                 \n",
            " block2_conv1 (Conv2D)       (None, 112, 112, 128)     73856     \n",
            "                                                                 \n",
            " block2_conv2 (Conv2D)       (None, 112, 112, 128)     147584    \n",
            "                                                                 \n",
            " block2_pool (MaxPooling2D)  (None, 56, 56, 128)       0         \n",
            "                                                                 \n",
            " block3_conv1 (Conv2D)       (None, 56, 56, 256)       295168    \n",
            "                                                                 \n",
            " block3_conv2 (Conv2D)       (None, 56, 56, 256)       590080    \n",
            "                                                                 \n",
            " block3_conv3 (Conv2D)       (None, 56, 56, 256)       590080    \n",
            "                                                                 \n",
            " block3_pool (MaxPooling2D)  (None, 28, 28, 256)       0         \n",
            "                                                                 \n",
            " block4_conv1 (Conv2D)       (None, 28, 28, 512)       1180160   \n",
            "                                                                 \n",
            " block4_conv2 (Conv2D)       (None, 28, 28, 512)       2359808   \n",
            "                                                                 \n",
            " block4_conv3 (Conv2D)       (None, 28, 28, 512)       2359808   \n",
            "                                                                 \n",
            " block4_pool (MaxPooling2D)  (None, 14, 14, 512)       0         \n",
            "                                                                 \n",
            " block5_conv1 (Conv2D)       (None, 14, 14, 512)       2359808   \n",
            "                                                                 \n",
            " block5_conv2 (Conv2D)       (None, 14, 14, 512)       2359808   \n",
            "                                                                 \n",
            " block5_conv3 (Conv2D)       (None, 14, 14, 512)       2359808   \n",
            "                                                                 \n",
            " block5_pool (MaxPooling2D)  (None, 7, 7, 512)         0         \n",
            "                                                                 \n",
            " flatten (Flatten)           (None, 25088)             0         \n",
            "                                                                 \n",
            " fc1 (Dense)                 (None, 4096)              102764544 \n",
            "                                                                 \n",
            " fc2 (Dense)                 (None, 4096)              16781312  \n",
            "                                                                 \n",
            " predictions (Dense)         (None, 1000)              4097000   \n",
            "                                                                 \n",
            "=================================================================\n",
            "Total params: 138357544 (527.79 MB)\n",
            "Trainable params: 138357544 (527.79 MB)\n",
            "Non-trainable params: 0 (0.00 Byte)\n",
            "_________________________________________________________________\n",
            "None\n"
          ]
        }
      ],
      "source": [
        "model = VGG16()\n",
        "model = Model(inputs=model.inputs, outputs=model.layers[-1].output)\n",
        "print(model.summary())"
      ]
    },
    {
      "cell_type": "code",
      "execution_count": 6,
      "metadata": {
        "colab": {
          "base_uri": "https://localhost:8080/"
        },
        "id": "ittwO1OdSwX2",
        "outputId": "583ff4c0-8852-4cfd-f3ad-21e8c8dcc329"
      },
      "outputs": [
        {
          "output_type": "stream",
          "name": "stdout",
          "text": [
            "{'079': 0, '082': 0, '032': 0, '088': 0, '041': 0, '027': 0, '149': 0, '025': 0, '048': 0, '141': 0, '156': 0, '067': 0, '096': 0, '054': 0, '143': 0, '051': 0, '109': 0, '135': 0, '081': 0, '030': 0, '110': 0, '024': 0, '033': 0, '092': 0, '022': 0, '042': 0, '100': 0, '037': 0, '062': 0, '106': 0, '053': 0, '015': 0, '114': 0, '090': 0, '147': 0, '061': 0, '089': 0, '146': 0, '107': 0, '129': 0, '075': 0, '044': 0, '029': 0, '122': 0, '117': 0, '157': 0, '115': 0, '128': 0, '084': 0, '085': 0, '139': 0, '086': 0, '104': 0, '011': 0, '040': 0, '087': 0, '028': 0, '013': 0, '155': 0, '131': 0, '001': 0, '055': 0, '144': 0, '083': 0, '031': 0, '095': 0, '138': 0, '140': 0, '136': 0, '036': 0, '105': 0, '016': 0, '068': 0, '113': 0, '112': 0, '002': 0, '038': 0, '072': 0, '009': 0, '119': 0, '071': 0, '004': 0, '127': 0, '026': 0, '116': 0, '120': 0, '101': 0, '007': 0, '070': 0, '150': 0, '152': 0, '008': 0, '049': 0, '050': 0, '091': 0, '060': 0, '154': 0, '018': 0, '077': 0, '021': 0, '047': 0, '065': 0, '102': 0, '063': 0, '125': 0, '126': 0, '064': 0, '133': 0, '158': 0, '005': 0, '014': 0, '043': 0, '012': 0, '121': 0, '066': 0, '080': 0, '020': 0, '099': 0, '098': 0, '134': 0, '056': 0, '019': 0, '003': 0, '046': 0, '151': 0, '057': 0, '059': 0, '010': 0, '142': 0, '124': 0, '017': 0, '078': 0, '034': 0, '123': 0, '111': 0, '108': 0, '153': 0, '132': 0, '069': 0, '103': 0, '045': 0, '058': 0, '074': 0, '118': 0, '006': 0, '130': 0, '097': 0, '094': 0, '093': 0, '023': 0, '039': 0, '076': 0, '073': 0, '035': 0, '145': 0, '137': 0, '052': 0, '148': 0}\n"
          ]
        }
      ],
      "source": [
        "# Path to the folder containing the original images\n",
        "extracted_folder_path = 'extracted_folder'\n",
        "\n",
        "# Path to the folder where augmented images will be saved\n",
        "augmented_folder_path = 'augmented_images_new'\n",
        "\n",
        "# Create the output folder if it doesn't exist\n",
        "if not os.path.exists(augmented_folder_path):\n",
        "    os.makedirs(augmented_folder_path)\n",
        "\n",
        "files_dict = {}\n",
        "for image in os.listdir(extracted_folder_path):\n",
        "  value = image.split('_')[0]\n",
        "  files_dict[value] = 0\n",
        "print(files_dict)\n"
      ]
    },
    {
      "cell_type": "code",
      "execution_count": null,
      "metadata": {
        "id": "gAoQ-VuhpjaT"
      },
      "outputs": [],
      "source": [
        "import os\n",
        "import cv2\n",
        "import numpy as np\n",
        "from keras.preprocessing.image import ImageDataGenerator\n",
        "\n",
        "# Function to perform data augmentation\n",
        "def augment_images(image_path):\n",
        "\n",
        "    # Image rotation\n",
        "    # Initialize ImageDataGenerator for augmentation\n",
        "    datagen = ImageDataGenerator(rotation_range=20, fill_mode='nearest')\n",
        "\n",
        "    # Read the image using cv2\n",
        "    img = cv2.imread(image_path)\n",
        "\n",
        "    # Expand dimensions to match expected input shape for the generator\n",
        "\n",
        "    # Adding the actual image to new augmented folder\n",
        "    filenumber = (image_path.split('/')[1]).split('_')[0]\n",
        "    new_filename = filenumber + '_augmented_' + str(files_dict[filenumber]) + '.bmp'\n",
        "    files_dict[filenumber]+=1\n",
        "    new_image_path = os.path.join(augmented_folder_path, new_filename)\n",
        "    cv2.imwrite(new_image_path, img)\n",
        "\n",
        "    img = np.expand_dims(img, axis=0)\n",
        "\n",
        "    # Now, you can create the iterator\n",
        "    aug_iter = datagen.flow(img, batch_size=1)\n",
        "\n",
        "    # Generate samples and collect them in a list\n",
        "    images = []\n",
        "    fig, ax = plt.subplots(nrows=1, ncols=3, figsize=(5,5))\n",
        "    for i in range(3):  # Generating 3 augmented images\n",
        "        # Convert to unsigned integers\n",
        "        augmented_image = next(aug_iter)[0].astype('uint8')\n",
        "        ax[i].imshow(augmented_image)\n",
        "        ax[i].axis('off')\n",
        "        # Construct the new filename\n",
        "        filenumber = (image_path.split('/')[1]).split('_')[0]\n",
        "        new_filename = filenumber + '_augmented_' + str(files_dict[filenumber]) + '.bmp'\n",
        "        files_dict[filenumber]+=1\n",
        "        new_image_path = os.path.join(augmented_folder_path, new_filename)\n",
        "\n",
        "        # Save the augmented image\n",
        "        cv2.imwrite(new_image_path, augmented_image)\n",
        "        #images.append(augmented_image)\n",
        "    #plt.show()\n",
        "\n",
        "    # Image shifting\n",
        "\n",
        "    datagen = ImageDataGenerator(width_shift_range=0.05, height_shift_range=0.2)\n",
        "\n",
        "    # iterator\n",
        "    aug_iter = datagen.flow(img, batch_size=1)\n",
        "\n",
        "    # generate samples and plot\n",
        "    fig, ax = plt.subplots(nrows=1, ncols=3, figsize=(5,5))\n",
        "\n",
        "    # generate batch of images\n",
        "    for i in range(3):\n",
        "\n",
        "      # convert to unsigned integers\n",
        "      image = next(aug_iter)[0].astype('uint8')\n",
        "\n",
        "      # plot image\n",
        "      ax[i].imshow(image)\n",
        "      ax[i].axis('off')\n",
        "      filenumber = (image_path.split('/')[1]).split('_')[0]\n",
        "      new_filename = filenumber + '_augmented_' + str(files_dict[filenumber]) + '.bmp'\n",
        "      files_dict[filenumber]+=1\n",
        "      new_image_path = os.path.join(augmented_folder_path, new_filename)\n",
        "\n",
        "      # Save the augmented image\n",
        "      cv2.imwrite(new_image_path, augmented_image)\n",
        "      #images.append(augmented_image)\n",
        "    #plt.show()\n",
        "\n",
        "# Loop through each image in the input folder\n",
        "#for filename in os.listdir(input_folder_path):\n",
        "for file in os.listdir(extracted_folder_path):\n",
        "  image_path = os.path.join(extracted_folder_path, file)\n",
        "  augment_images(image_path)\n"
      ]
    },
    {
      "cell_type": "markdown",
      "metadata": {
        "id": "H4HJcNr6QEOk"
      },
      "source": [
        "-------------- Feature Extraction ---------------------"
      ]
    },
    {
      "cell_type": "code",
      "execution_count": 11,
      "metadata": {
        "id": "FyHM2txsnWJA"
      },
      "outputs": [],
      "source": [
        "features = []\n",
        "directory = augmented_folder_path\n",
        "for image in os.listdir(directory):\n",
        "  image_path = directory+'/'+image\n",
        "  # loading the image\n",
        "  img = load_img(image_path, target_size=(224, 224))\n",
        "  img = img_to_array(img)\n",
        "  #print(img.shape)\n",
        "\n",
        "  # preprocessing the image\n",
        "  img = preprocess_input(img)\n",
        "  img = np.expand_dims(img, axis=0)\n",
        "\n",
        "  # predicting on the image using the model\n",
        "  feature = model.predict(img, verbose=0)\n",
        "  label = (image_path.split('/')[1]).split('_')[0]\n",
        "  feature = np.append(feature, label)\n",
        "  features.append(feature)\n",
        "features = np.vstack(features)\n",
        "\n"
      ]
    },
    {
      "cell_type": "code",
      "source": [
        "from google.colab import drive\n",
        "drive.mount('/content/drive')"
      ],
      "metadata": {
        "id": "_7QaCky8l0p0",
        "colab": {
          "base_uri": "https://localhost:8080/"
        },
        "outputId": "dda19456-1fc8-40ad-a9f9-c2d9fe9e1311"
      },
      "execution_count": 12,
      "outputs": [
        {
          "output_type": "stream",
          "name": "stdout",
          "text": [
            "Mounted at /content/drive\n"
          ]
        }
      ]
    },
    {
      "cell_type": "code",
      "execution_count": 13,
      "metadata": {
        "colab": {
          "base_uri": "https://localhost:8080/"
        },
        "id": "uSVxeUimxYr-",
        "outputId": "58feb0e9-b0dd-4b13-b4ad-9f3acca8a152"
      },
      "outputs": [
        {
          "output_type": "execute_result",
          "data": {
            "text/plain": [
              "((4424, 1000), (1106, 1000), (4424,), (1106,))"
            ]
          },
          "metadata": {},
          "execution_count": 13
        }
      ],
      "source": [
        "np.random.shuffle(features)\n",
        "n = int(0.8*features.shape[0])\n",
        "X = features[:, :-1]\n",
        "Y = features[:, -1].astype(np.int32)\n",
        "x_train = X[:n]\n",
        "x_test = X[n:]\n",
        "y_train = Y[:n]\n",
        "y_test = Y[n:]\n",
        "x_train.shape, x_test.shape, y_train.shape, y_test.shape\n",
        "#y_train[:5]\n"
      ]
    },
    {
      "cell_type": "code",
      "execution_count": 14,
      "metadata": {
        "colab": {
          "base_uri": "https://localhost:8080/"
        },
        "id": "Jfq_guZEwSiC",
        "outputId": "cb8cab94-a99f-432f-8b2f-51a799886f7f"
      },
      "outputs": [
        {
          "output_type": "stream",
          "name": "stdout",
          "text": [
            "144\n"
          ]
        }
      ],
      "source": [
        "print(y_train[0])"
      ]
    },
    {
      "cell_type": "code",
      "execution_count": 15,
      "metadata": {
        "id": "vOkiVdxYzcri"
      },
      "outputs": [],
      "source": [
        "y_train = y_train.astype(np.int32) -1\n",
        "y_test = y_test.astype(np.int32) - 1"
      ]
    },
    {
      "cell_type": "code",
      "execution_count": 16,
      "metadata": {
        "id": "MxX_vXW-zsWL",
        "colab": {
          "base_uri": "https://localhost:8080/"
        },
        "outputId": "97772b8b-4191-48bc-fd1b-9c95bd0f40f8"
      },
      "outputs": [
        {
          "output_type": "execute_result",
          "data": {
            "text/plain": [
              "array([143, 130, 156, ...,  93,  59,  11], dtype=int32)"
            ]
          },
          "metadata": {},
          "execution_count": 16
        }
      ],
      "source": [
        "y_train"
      ]
    },
    {
      "cell_type": "code",
      "execution_count": 17,
      "metadata": {
        "id": "j48Y4WB60y69"
      },
      "outputs": [],
      "source": [
        "x_train = x_train.astype(np.float32)\n",
        "x_test = x_test.astype(np.float32)"
      ]
    },
    {
      "cell_type": "code",
      "execution_count": 18,
      "metadata": {
        "colab": {
          "base_uri": "https://localhost:8080/"
        },
        "id": "6_lv2vLI4Xs7",
        "outputId": "c4364a96-6e72-4441-9120-5e16095c639c"
      },
      "outputs": [
        {
          "output_type": "execute_result",
          "data": {
            "text/plain": [
              "(1000,)"
            ]
          },
          "metadata": {},
          "execution_count": 18
        }
      ],
      "source": [
        "x_test[0].shape"
      ]
    },
    {
      "cell_type": "code",
      "execution_count": 19,
      "metadata": {
        "colab": {
          "base_uri": "https://localhost:8080/"
        },
        "id": "Uh7yz-f1ogJ4",
        "outputId": "4b6c3e18-4330-4906-c93b-da005cbd9ab9"
      },
      "outputs": [
        {
          "output_type": "stream",
          "name": "stdout",
          "text": [
            "Shape of one-hot encoded labels: (4424, 158)\n",
            "Example one-hot encoded label: [0. 0. 0. 0. 0. 0. 0. 0. 0. 0. 0. 0. 0. 0. 0. 0. 0. 0. 0. 0. 0. 0. 0. 0.\n",
            " 0. 0. 0. 0. 0. 0. 0. 0. 0. 0. 0. 0. 0. 0. 0. 0. 0. 0. 0. 0. 0. 0. 0. 0.\n",
            " 0. 0. 0. 0. 0. 0. 0. 0. 0. 0. 0. 0. 0. 0. 0. 0. 0. 0. 0. 0. 0. 0. 0. 0.\n",
            " 0. 0. 0. 0. 0. 0. 0. 0. 0. 0. 0. 0. 0. 0. 0. 0. 0. 0. 0. 0. 0. 0. 0. 0.\n",
            " 0. 0. 0. 0. 0. 0. 0. 0. 0. 0. 0. 0. 0. 0. 0. 0. 0. 0. 0. 0. 0. 0. 0. 0.\n",
            " 0. 0. 0. 0. 0. 0. 0. 0. 0. 0. 0. 0. 0. 0. 0. 0. 0. 0. 0. 0. 0. 0. 0. 1.\n",
            " 0. 0. 0. 0. 0. 0. 0. 0. 0. 0. 0. 0. 0. 0.]\n"
          ]
        }
      ],
      "source": [
        "from keras.utils import to_categorical\n",
        "\n",
        "# One-hot encode the labels\n",
        "y_one_hot = to_categorical(y_train, num_classes = 158)\n",
        "\n",
        "print(\"Shape of one-hot encoded labels:\", y_one_hot.shape)\n",
        "print(\"Example one-hot encoded label:\", y_one_hot[0])"
      ]
    },
    {
      "cell_type": "code",
      "execution_count": 20,
      "metadata": {
        "colab": {
          "base_uri": "https://localhost:8080/"
        },
        "id": "GRiSrQemtB8n",
        "outputId": "de9fcef8-7a19-4ed4-b792-f74401cd7981"
      },
      "outputs": [
        {
          "output_type": "execute_result",
          "data": {
            "text/plain": [
              "(4424, 158)"
            ]
          },
          "metadata": {},
          "execution_count": 20
        }
      ],
      "source": [
        "y_one_hot.shape"
      ]
    },
    {
      "cell_type": "code",
      "execution_count": 21,
      "metadata": {
        "id": "Y6P2gCgeW2i0"
      },
      "outputs": [],
      "source": [
        "import tensorflow as tf\n",
        "from tensorflow.keras.preprocessing.image import ImageDataGenerator\n",
        "from tensorflow.keras.optimizers import Adam\n",
        "from tensorflow.keras.callbacks import EarlyStopping\n",
        "from tensorflow.keras.layers import Conv2D, MaxPooling2D, Dense, Flatten\n",
        "from tensorflow.keras import layers"
      ]
    },
    {
      "cell_type": "markdown",
      "metadata": {
        "id": "R0TIM414QEOo"
      },
      "source": [
        "-----------------  Model Architecture --------------"
      ]
    },
    {
      "cell_type": "code",
      "execution_count": 22,
      "metadata": {
        "colab": {
          "base_uri": "https://localhost:8080/"
        },
        "id": "sbetRvvqXrxx",
        "outputId": "a4542786-eeb9-4a6a-e552-9fbf78825c08"
      },
      "outputs": [
        {
          "output_type": "stream",
          "name": "stdout",
          "text": [
            "Model: \"sequential\"\n",
            "_________________________________________________________________\n",
            " Layer (type)                Output Shape              Param #   \n",
            "=================================================================\n",
            " dense (Dense)               (None, 256)               256256    \n",
            "                                                                 \n",
            " dense_1 (Dense)             (None, 200)               51400     \n",
            "                                                                 \n",
            " dense_2 (Dense)             (None, 158)               31758     \n",
            "                                                                 \n",
            "=================================================================\n",
            "Total params: 339414 (1.29 MB)\n",
            "Trainable params: 339414 (1.29 MB)\n",
            "Non-trainable params: 0 (0.00 Byte)\n",
            "_________________________________________________________________\n"
          ]
        }
      ],
      "source": [
        "model_ = tf.keras.Sequential(\n",
        "    [layers.Dense(units = 256, activation = 'relu', input_shape = (1000, )),\n",
        "     layers.Dense(units = 200, activation = 'relu'),\n",
        "     layers.Dense(units = 158, activation = 'softmax')]\n",
        ")\n",
        "\n",
        "model_.summary()"
      ]
    },
    {
      "cell_type": "code",
      "execution_count": 23,
      "metadata": {
        "id": "yuGnoHNDYVvu"
      },
      "outputs": [],
      "source": [
        "model_.compile(optimizer = 'adam',\n",
        "              loss = 'categorical_crossentropy',\n",
        "              metrics = ['accuracy'])"
      ]
    },
    {
      "cell_type": "code",
      "execution_count": null,
      "metadata": {
        "id": "obeQhvU9cd2x"
      },
      "outputs": [],
      "source": [
        "history = model_.fit(x_train, y_one_hot, batch_size = 30, epochs = 300)"
      ]
    },
    {
      "cell_type": "code",
      "execution_count": null,
      "metadata": {
        "id": "0c3AQEfu3P-f"
      },
      "outputs": [],
      "source": [
        "for i in range(10):\n",
        "  input_data = np.expand_dims(x_test[i], axis=0)\n",
        "  predictions = model_.predict(input_data)\n",
        "  max_index = np.argmax(predictions)\n",
        "  print(max_index, y_test[i])"
      ]
    },
    {
      "cell_type": "code",
      "execution_count": 27,
      "metadata": {
        "colab": {
          "base_uri": "https://localhost:8080/"
        },
        "id": "MvtRjy2E6yEd",
        "outputId": "f6b76ddb-939e-478f-fca1-7d2ce93e9f28"
      },
      "outputs": [
        {
          "output_type": "stream",
          "name": "stdout",
          "text": [
            "Drive already mounted at /content/drive; to attempt to forcibly remount, call drive.mount(\"/content/drive\", force_remount=True).\n"
          ]
        }
      ],
      "source": [
        "from google.colab import drive\n",
        "drive.mount('/content/drive')"
      ]
    },
    {
      "cell_type": "markdown",
      "source": [
        "Image Enhancement\n"
      ],
      "metadata": {
        "id": "ewWl-myuCON5"
      }
    },
    {
      "cell_type": "code",
      "source": [
        "import cv2\n",
        "from google.colab.patches import cv2_imshow\n",
        "import numpy as np\n",
        "\n",
        "def enhance_knuckle_image(image_path):\n",
        "    # Step 1: Divide the image into 10x10 sub-blocks and compute the block-wise average\n",
        "    N = 256  # Constant for division\n",
        "    block_size = (10, 10)\n",
        "    image = cv2.imread(image_path, cv2.IMREAD_GRAYSCALE)\n",
        "    height, width = image.shape\n",
        "    block_averages = np.zeros((height // block_size[0], width // block_size[1]), dtype=np.uint8)\n",
        "    for i in range(0, height, block_size[0]):\n",
        "        for j in range(0, width, block_size[1]):\n",
        "            block = image[i:i+block_size[0], j:j+block_size[1]]\n",
        "            block_average = np.sum(block) // N\n",
        "            block_averages[i // block_size[0], j // block_size[1]] = block_average\n",
        "\n",
        "    # Step 2: Construct background illumination image using bi-cubic interpolation\n",
        "    background_illumination = cv2.resize(block_averages, (width, height), interpolation=cv2.INTER_CUBIC)\n",
        "\n",
        "    # Step 3: Normalize uneven illumination by subtracting background illumination\n",
        "    normalized_image = cv2.subtract(image, background_illumination)\n",
        "\n",
        "    # Step 4: Apply histogram equalization to the normalized image\n",
        "    enhanced_image = cv2.equalizeHist(normalized_image)\n",
        "\n",
        "    return enhanced_image\n",
        "\n",
        "# Example usage:\n",
        "image_path = '/content/004_2.bmp'\n",
        "enhanced_image = enhance_knuckle_image(image_path)\n",
        "cv2_imshow(enhanced_image)\n",
        "cv2.waitKey(0)\n",
        "cv2.destroyAllWindows()\n"
      ],
      "metadata": {
        "colab": {
          "base_uri": "https://localhost:8080/",
          "height": 117
        },
        "id": "WzKykedFwKBe",
        "outputId": "1048f60c-f47b-44f3-f46b-f765e2cee2fd"
      },
      "execution_count": 5,
      "outputs": [
        {
          "output_type": "display_data",
          "data": {
            "text/plain": [
              "<PIL.Image.Image image mode=L size=80x100>"
            ],
            "image/png": "[encoded data removed]"
          },
          "metadata": {}
        }
      ]
    },
    {
      "cell_type": "code",
      "source": [],
      "metadata": {
        "id": "n5SU7bFdA75V"
      },
      "execution_count": null,
      "outputs": []
    }
  ],
  "metadata": {
    "colab": {
      "provenance": []
    },
    "kernelspec": {
      "display_name": "Python 3",
      "name": "python3"
    },
    "language_info": {
      "codemirror_mode": {
        "name": "ipython",
        "version": 3
      },
      "file_extension": ".py",
      "mimetype": "text/x-python",
      "name": "python",
      "nbconvert_exporter": "python",
      "pygments_lexer": "ipython3",
      "version": "3.12.2"
    }
  },
  "nbformat": 4,
  "nbformat_minor": 0
}