{
  "nbformat": 4,
  "nbformat_minor": 0,
  "metadata": {
    "colab": {
      "provenance": [],
      "gpuType": "T4"
    },
    "kernelspec": {
      "name": "python3",
      "display_name": "Python 3"
    },
    "language_info": {
      "name": "python"
    },
    "accelerator": "GPU"
  },
  "cells": [
    {
      "cell_type": "code",
      "execution_count": null,
      "metadata": {
        "colab": {
          "base_uri": "https://localhost:8080/"
        },
        "id": "JXi_XfR0EkIu",
        "outputId": "92e00570-11f8-4dd1-efc1-0227ff404111"
      },
      "outputs": [
        {
          "output_type": "stream",
          "name": "stdout",
          "text": [
            "--2023-10-26 16:44:53--  https://www.gutenberg.org/files/1661/1661-0.txt\n",
            "Resolving www.gutenberg.org (www.gutenberg.org)... 152.19.134.47, 2610:28:3090:3000:0:bad:cafe:47\n",
            "Connecting to www.gutenberg.org (www.gutenberg.org)|152.19.134.47|:443... connected.\n",
            "HTTP request sent, awaiting response... 200 OK\n",
            "Length: 607504 (593K) [text/plain]\n",
            "Saving to: ‘book.txt’\n",
            "\n",
            "book.txt            100%[===================>] 593.27K  1.88MB/s    in 0.3s    \n",
            "\n",
            "2023-10-26 16:44:54 (1.88 MB/s) - ‘book.txt’ saved [607504/607504]\n",
            "\n"
          ]
        }
      ],
      "source": [
        "#get the data\n",
        "!wget https://www.gutenberg.org/files/1661/1661-0.txt -O book.txt"
      ]
    },
    {
      "cell_type": "code",
      "source": [
        "text = open('book.txt', 'r', encoding='utf-8').read()\n",
        "text = text.lower()"
      ],
      "metadata": {
        "id": "DHe14D14IFVd"
      },
      "execution_count": null,
      "outputs": []
    },
    {
      "cell_type": "code",
      "source": [
        "sentences = text.split('\\n')"
      ],
      "metadata": {
        "id": "mfuhWwJRIYuw"
      },
      "execution_count": null,
      "outputs": []
    },
    {
      "cell_type": "code",
      "source": [
        "import tensorflow as tf\n",
        "import keras\n",
        "from keras.preprocessing.text import Tokenizer\n",
        "from keras.preprocessing.sequence import pad_sequences"
      ],
      "metadata": {
        "id": "D-iwqAUlIf-t"
      },
      "execution_count": null,
      "outputs": []
    },
    {
      "cell_type": "code",
      "source": [
        "tokenizer = Tokenizer(oov_token='<UNK>')"
      ],
      "metadata": {
        "id": "mdGTvYxdI4v7"
      },
      "execution_count": null,
      "outputs": []
    },
    {
      "cell_type": "code",
      "source": [
        "tokenizer.fit_on_texts(sentences)"
      ],
      "metadata": {
        "id": "xyYy9TATJRua"
      },
      "execution_count": null,
      "outputs": []
    },
    {
      "cell_type": "code",
      "source": [
        "vocab_size = len(tokenizer.word_index)+1\n",
        "vocab_size"
      ],
      "metadata": {
        "colab": {
          "base_uri": "https://localhost:8080/"
        },
        "id": "bFWnKwWZJZQ5",
        "outputId": "950a0474-26b4-4108-fb9b-a21c585dcea3"
      },
      "execution_count": null,
      "outputs": [
        {
          "output_type": "execute_result",
          "data": {
            "text/plain": [
              "8923"
            ]
          },
          "metadata": {},
          "execution_count": 61
        }
      ]
    },
    {
      "cell_type": "code",
      "source": [],
      "metadata": {
        "id": "-tvPbaJIJkKI"
      },
      "execution_count": null,
      "outputs": []
    },
    {
      "cell_type": "code",
      "source": [
        "sequences = tokenizer.texts_to_sequences(sentences)"
      ],
      "metadata": {
        "id": "K-Q4qxRkJ31N"
      },
      "execution_count": null,
      "outputs": []
    },
    {
      "cell_type": "code",
      "source": [
        "input_sequences = []\n",
        "for sequence in sequences:\n",
        "  for i in range(1, len(sequence)):\n",
        "    n_gram_sequence = sequence[:i+1]\n",
        "    input_sequences.append(n_gram_sequence)"
      ],
      "metadata": {
        "id": "RxB-3vtmKF1V"
      },
      "execution_count": null,
      "outputs": []
    },
    {
      "cell_type": "code",
      "source": [
        "print(input_sequences[0], input_sequences[1])"
      ],
      "metadata": {
        "colab": {
          "base_uri": "https://localhost:8080/"
        },
        "id": "1vR4j8RsOuA4",
        "outputId": "b561a17c-fb3d-458b-faea-18580ca3c83a"
      },
      "execution_count": null,
      "outputs": [
        {
          "output_type": "stream",
          "name": "stdout",
          "text": [
            "[4776, 158] [4776, 158, 331]\n"
          ]
        }
      ]
    },
    {
      "cell_type": "code",
      "source": [
        "max_seq_len = max([len(seq) for seq in input_sequences])\n",
        "max_seq_len"
      ],
      "metadata": {
        "colab": {
          "base_uri": "https://localhost:8080/"
        },
        "id": "4GNSkylgO0Uk",
        "outputId": "87b6cf81-437d-486e-a030-e28843970e66"
      },
      "execution_count": null,
      "outputs": [
        {
          "output_type": "execute_result",
          "data": {
            "text/plain": [
              "20"
            ]
          },
          "metadata": {},
          "execution_count": 65
        }
      ]
    },
    {
      "cell_type": "code",
      "source": [
        "padded_sequences = pad_sequences(input_sequences, maxlen=max_seq_len)"
      ],
      "metadata": {
        "id": "1I7h2WpWPC_A"
      },
      "execution_count": null,
      "outputs": []
    },
    {
      "cell_type": "code",
      "source": [
        "print(padded_sequences[0])"
      ],
      "metadata": {
        "colab": {
          "base_uri": "https://localhost:8080/"
        },
        "id": "LGze2ovTPTfP",
        "outputId": "69f97306-fd42-4f80-9008-d525ab674142"
      },
      "execution_count": null,
      "outputs": [
        {
          "output_type": "stream",
          "name": "stdout",
          "text": [
            "[   0    0    0    0    0    0    0    0    0    0    0    0    0    0\n",
            "    0    0    0    0 4776  158]\n"
          ]
        }
      ]
    },
    {
      "cell_type": "code",
      "source": [
        "import numpy as np\n",
        "padded_sequences = np.array(padded_sequences)"
      ],
      "metadata": {
        "id": "Se1Sa0mdPWvQ"
      },
      "execution_count": null,
      "outputs": []
    },
    {
      "cell_type": "code",
      "source": [
        "x = padded_sequences[:, :-1]\n",
        "labels = padded_sequences[:, -1]"
      ],
      "metadata": {
        "id": "0E7swCfLbITp"
      },
      "execution_count": null,
      "outputs": []
    },
    {
      "cell_type": "code",
      "source": [
        "y = tf.keras.utils.to_categorical(labels, num_classes=vocab_size)\n",
        "y.shape"
      ],
      "metadata": {
        "id": "DIiqbvT5bxbc",
        "outputId": "ba6cbeb8-5c55-46f0-975c-57d24d230383",
        "colab": {
          "base_uri": "https://localhost:8080/"
        }
      },
      "execution_count": null,
      "outputs": [
        {
          "output_type": "execute_result",
          "data": {
            "text/plain": [
              "(101523, 8923)"
            ]
          },
          "metadata": {},
          "execution_count": 70
        }
      ]
    },
    {
      "cell_type": "code",
      "source": [
        "x.shape"
      ],
      "metadata": {
        "id": "4DPbqcwhcFjF",
        "outputId": "85a53bc6-9db6-4bcf-df9e-8a36aea40d59",
        "colab": {
          "base_uri": "https://localhost:8080/"
        }
      },
      "execution_count": null,
      "outputs": [
        {
          "output_type": "execute_result",
          "data": {
            "text/plain": [
              "(101523, 19)"
            ]
          },
          "metadata": {},
          "execution_count": 71
        }
      ]
    },
    {
      "cell_type": "code",
      "source": [
        "#import dependencies for defining the model\n",
        "from tensorflow.keras.models import Sequential\n",
        "from tensorflow.keras.layers import Embedding, Bidirectional, LSTM, Dense\n",
        "from tensorflow.keras.optimizers import Adam"
      ],
      "metadata": {
        "id": "MkiWr6t5cNjO"
      },
      "execution_count": null,
      "outputs": []
    },
    {
      "cell_type": "code",
      "source": [
        "#define and compile the model\n",
        "model = Sequential()\n",
        "model.add(Embedding(vocab_size, 100, input_length=max_seq_len-1))\n",
        "model.add(Bidirectional(LSTM(256)))\n",
        "model.add(Dense(vocab_size, activation='softmax'))\n",
        "adam = Adam(learning_rate=0.01)\n",
        "model.compile(loss='categorical_crossentropy', optimizer=adam, metrics=['acc'])\n",
        "model.summary()"
      ],
      "metadata": {
        "id": "SqNuSPtRinOe",
        "outputId": "811127cb-6e88-4c17-f3ba-3e8a339e5e47",
        "colab": {
          "base_uri": "https://localhost:8080/"
        }
      },
      "execution_count": null,
      "outputs": [
        {
          "output_type": "stream",
          "name": "stdout",
          "text": [
            "Model: \"sequential_1\"\n",
            "_________________________________________________________________\n",
            " Layer (type)                Output Shape              Param #   \n",
            "=================================================================\n",
            " embedding_1 (Embedding)     (None, 19, 100)           892300    \n",
            "                                                                 \n",
            " bidirectional_1 (Bidirecti  (None, 512)               731136    \n",
            " onal)                                                           \n",
            "                                                                 \n",
            " dense_1 (Dense)             (None, 8923)              4577499   \n",
            "                                                                 \n",
            "=================================================================\n",
            "Total params: 6200935 (23.65 MB)\n",
            "Trainable params: 6200935 (23.65 MB)\n",
            "Non-trainable params: 0 (0.00 Byte)\n",
            "_________________________________________________________________\n"
          ]
        }
      ]
    },
    {
      "cell_type": "code",
      "source": [
        "#initialize the callback for early stopping the training if there is not atleast 1% improvement in the accuracy\n",
        "from tensorflow.keras.callbacks import EarlyStopping\n",
        "es = EarlyStopping(monitor = 'acc', min_delta=0.01)"
      ],
      "metadata": {
        "id": "Ax4fXlyMkIXU"
      },
      "execution_count": null,
      "outputs": []
    },
    {
      "cell_type": "code",
      "source": [
        "history=model.fit(x, y, epochs=50, verbose=1, batch_size=512, callbacks=[es])"
      ],
      "metadata": {
        "id": "e_uC3Pd1ktTh",
        "outputId": "f5c77de9-6eba-43ec-89fe-36bc164edca1",
        "colab": {
          "base_uri": "https://localhost:8080/"
        }
      },
      "execution_count": null,
      "outputs": [
        {
          "output_type": "stream",
          "name": "stdout",
          "text": [
            "Epoch 1/50\n",
            "199/199 [==============================] - 22s 91ms/step - loss: 6.2148 - acc: 0.0858\n",
            "Epoch 2/50\n",
            "199/199 [==============================] - 10s 50ms/step - loss: 5.3104 - acc: 0.1411\n",
            "Epoch 3/50\n",
            "199/199 [==============================] - 9s 44ms/step - loss: 4.7713 - acc: 0.1723\n",
            "Epoch 4/50\n",
            "199/199 [==============================] - 9s 45ms/step - loss: 4.2624 - acc: 0.2020\n",
            "Epoch 5/50\n",
            "199/199 [==============================] - 9s 43ms/step - loss: 3.7625 - acc: 0.2440\n",
            "Epoch 6/50\n",
            "199/199 [==============================] - 8s 41ms/step - loss: 3.3162 - acc: 0.2964\n",
            "Epoch 7/50\n",
            "199/199 [==============================] - 8s 41ms/step - loss: 2.9297 - acc: 0.3523\n",
            "Epoch 8/50\n",
            "199/199 [==============================] - 8s 38ms/step - loss: 2.6285 - acc: 0.4006\n",
            "Epoch 9/50\n",
            "199/199 [==============================] - 8s 42ms/step - loss: 2.3740 - acc: 0.4448\n",
            "Epoch 10/50\n",
            "199/199 [==============================] - 9s 43ms/step - loss: 2.1688 - acc: 0.4829\n",
            "Epoch 11/50\n",
            "199/199 [==============================] - 8s 38ms/step - loss: 2.0031 - acc: 0.5154\n",
            "Epoch 12/50\n",
            "199/199 [==============================] - 8s 39ms/step - loss: 1.8688 - acc: 0.5404\n",
            "Epoch 13/50\n",
            "199/199 [==============================] - 8s 40ms/step - loss: 1.7515 - acc: 0.5647\n",
            "Epoch 14/50\n",
            "199/199 [==============================] - 8s 40ms/step - loss: 1.6503 - acc: 0.5844\n",
            "Epoch 15/50\n",
            "199/199 [==============================] - 8s 40ms/step - loss: 1.5708 - acc: 0.6028\n",
            "Epoch 16/50\n",
            "199/199 [==============================] - 8s 39ms/step - loss: 1.5067 - acc: 0.6155\n",
            "Epoch 17/50\n",
            "199/199 [==============================] - 8s 39ms/step - loss: 1.4377 - acc: 0.6291\n",
            "Epoch 18/50\n",
            "199/199 [==============================] - 8s 40ms/step - loss: 1.3801 - acc: 0.6425\n",
            "Epoch 19/50\n",
            "199/199 [==============================] - 8s 40ms/step - loss: 1.3497 - acc: 0.6497\n"
          ]
        }
      ]
    },
    {
      "cell_type": "code",
      "source": [
        "# testing\n",
        "seed_text = 'I could not help laughing at the ease with which he explained his process of deduction'\n",
        "next_words = 50\n",
        "\n",
        "for i in range(next_words):\n",
        "  sequence = tokenizer.texts_to_sequences([seed_text])\n",
        "  padded = pad_sequences(sequence, maxlen=max_seq_len-1)\n",
        "  predicted = model.predict(padded, verbose=0)\n",
        "  predicted.shape\n",
        "  max_ = max(predicted[0])\n",
        "  for i in range(len(predicted[0])):\n",
        "    if (max_==predicted[0][i]):\n",
        "      predict = i\n",
        "\n",
        "  output_word = ''\n",
        "  for word, index in tokenizer.word_index.items():\n",
        "    if (index==predict):\n",
        "      output_word = word\n",
        "      break\n",
        "  seed_text+=' ' + output_word\n",
        "print(seed_text)"
      ],
      "metadata": {
        "id": "1Gm0WgQLl9vh",
        "outputId": "8ddd17fb-58b9-4728-b9b7-cd0181c94c4b",
        "colab": {
          "base_uri": "https://localhost:8080/"
        }
      },
      "execution_count": null,
      "outputs": [
        {
          "output_type": "stream",
          "name": "stdout",
          "text": [
            "I could not help laughing at the ease with which he explained his process of deduction to this man and would have gone through to bed and the same feet ” i ejaculated after i had not a very heavy sleeper and the whole of a purpose the cab my experience began to be of bed i began to be the best policy to my sister’s\n"
          ]
        }
      ]
    },
    {
      "cell_type": "code",
      "source": [
        "# how loss and acuuracy changed while training\n",
        "import matplotlib.pyplot as plt\n",
        "history = model.history\n",
        "acc = history.history['acc']\n",
        "loss = history.history['loss']\n",
        "\n",
        "epochs = range(len(acc))\n",
        "\n",
        "plt.plot(epochs, acc, 'b', label='Training accuracy')\n",
        "plt.title('Training accuracy')\n",
        "\n",
        "plt.figure()\n",
        "\n",
        "plt.plot(epochs, loss, 'b', label='Training Loss')\n",
        "plt.title('Training loss')\n",
        "plt.legend()\n",
        "\n",
        "plt.show()"
      ],
      "metadata": {
        "id": "UTgZqfePuB-o",
        "outputId": "b52b0e48-3186-4078-e4c7-349f000d07ab",
        "colab": {
          "base_uri": "https://localhost:8080/",
          "height": 887
        }
      },
      "execution_count": null,
      "outputs": [
        {
          "output_type": "display_data",
          "data": {
            "text/plain": [
              "<Figure size 640x480 with 1 Axes>"
            ],
            "image/png": "[encoded data removed]"
          },
          "metadata": {}
        },
        {
          "output_type": "display_data",
          "data": {
            "text/plain": [
              "<Figure size 640x480 with 1 Axes>"
            ],
            "image/png": "[encoded data removed]"
          },
          "metadata": {}
        }
      ]
    },
    {
      "cell_type": "code",
      "source": [],
      "metadata": {
        "id": "CsyT3DSnuerH"
      },
      "execution_count": null,
      "outputs": []
    }
  ]
}